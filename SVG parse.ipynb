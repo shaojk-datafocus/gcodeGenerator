{
 "cells": [
  {
   "cell_type": "code",
   "execution_count": 8,
   "metadata": {},
   "outputs": [],
   "source": [
    "from xml.etree import ElementTree"
   ]
  },
  {
   "cell_type": "code",
   "execution_count": 10,
   "metadata": {},
   "outputs": [
    {
     "data": {
      "text/plain": [
       "<Element '{http://www.w3.org/2000/svg}svg' at 0x000001E2F8C1F810>"
      ]
     },
     "execution_count": 10,
     "metadata": {},
     "output_type": "execute_result"
    }
   ],
   "source": [
    "with open('test.svg') as f:\n",
    "    data = f.read()\n",
    "svg = ElementTree.fromstring(data)\n",
    "svg"
   ]
  },
  {
   "cell_type": "code",
   "execution_count": 13,
   "metadata": {},
   "outputs": [
    {
     "data": {
      "text/plain": [
       "({'width': '210mm',\n",
       "  'height': '297mm',\n",
       "  'viewBox': '0 0 210 297',\n",
       "  'version': '1.1',\n",
       "  'id': 'svg5',\n",
       "  '{http://www.inkscape.org/namespaces/inkscape}version': '1.1 (c68e22c387, 2021-05-23)',\n",
       "  '{http://sodipodi.sourceforge.net/DTD/sodipodi-0.dtd}docname': 'test.svg'},\n",
       " '{http://www.w3.org/2000/svg}svg')"
      ]
     },
     "execution_count": 13,
     "metadata": {},
     "output_type": "execute_result"
    }
   ],
   "source": [
    "svg.attrib, svg.tag"
   ]
  },
  {
   "cell_type": "code",
   "execution_count": 24,
   "metadata": {},
   "outputs": [
    {
     "name": "stdout",
     "output_type": "stream",
     "text": [
      "<class 'dict'>\n",
      "<class 'dict'>\n",
      "<class 'dict'>\n"
     ]
    }
   ],
   "source": [
    "for item in svg:\n",
    "    print(type(item.attrib))"
   ]
  },
  {
   "cell_type": "code",
   "execution_count": 16,
   "metadata": {},
   "outputs": [
    {
     "data": {
      "text/plain": [
       "['__class__',\n",
       " '__copy__',\n",
       " '__deepcopy__',\n",
       " '__delattr__',\n",
       " '__delitem__',\n",
       " '__dir__',\n",
       " '__doc__',\n",
       " '__eq__',\n",
       " '__format__',\n",
       " '__ge__',\n",
       " '__getattribute__',\n",
       " '__getitem__',\n",
       " '__getstate__',\n",
       " '__gt__',\n",
       " '__hash__',\n",
       " '__init__',\n",
       " '__init_subclass__',\n",
       " '__le__',\n",
       " '__len__',\n",
       " '__lt__',\n",
       " '__ne__',\n",
       " '__new__',\n",
       " '__reduce__',\n",
       " '__reduce_ex__',\n",
       " '__repr__',\n",
       " '__setattr__',\n",
       " '__setitem__',\n",
       " '__setstate__',\n",
       " '__sizeof__',\n",
       " '__str__',\n",
       " '__subclasshook__',\n",
       " 'append',\n",
       " 'attrib',\n",
       " 'clear',\n",
       " 'extend',\n",
       " 'find',\n",
       " 'findall',\n",
       " 'findtext',\n",
       " 'get',\n",
       " 'getchildren',\n",
       " 'getiterator',\n",
       " 'insert',\n",
       " 'items',\n",
       " 'iter',\n",
       " 'iterfind',\n",
       " 'itertext',\n",
       " 'keys',\n",
       " 'makeelement',\n",
       " 'remove',\n",
       " 'set',\n",
       " 'tag',\n",
       " 'tail',\n",
       " 'text']"
      ]
     },
     "execution_count": 16,
     "metadata": {},
     "output_type": "execute_result"
    }
   ],
   "source": [
    "dir(svg)"
   ]
  }
 ],
 "metadata": {
  "kernelspec": {
   "display_name": "Python 3",
   "language": "python",
   "name": "python3"
  },
  "language_info": {
   "codemirror_mode": {
    "name": "ipython",
    "version": 3
   },
   "file_extension": ".py",
   "mimetype": "text/x-python",
   "name": "python",
   "nbconvert_exporter": "python",
   "pygments_lexer": "ipython3",
   "version": "3.8.3"
  }
 },
 "nbformat": 4,
 "nbformat_minor": 4
}
